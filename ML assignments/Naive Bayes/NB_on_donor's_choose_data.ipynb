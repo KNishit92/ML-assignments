{
 "cells": [
  {
   "cell_type": "markdown",
   "metadata": {
    "id": "Dnubs-Nnb3cw"
   },
   "source": [
    "# Assignment 6: Apply NB"
   ]
  },
  {
   "cell_type": "markdown",
   "metadata": {
    "id": "RW0zYHb5m_wI"
   },
   "source": [
    "<ol>\n",
    "    <li>Minimum data points need to be considered for people having 4GB RAM is <strong>50k</strong> and for 8GB RAM is <strong>100k</strong></li>\n",
    "    <li>When you are using ramdomsearchcv or gridsearchcv you need not split the data into X_train,X_cv,X_test. As the above methods use kfold. The model will learn better if train data is more so splitting to X_train,X_test will suffice.</li>\n",
    "    <li>If you are writing for loops to tune your model then you need split the data into X_train,X_cv,X_test.</li>\n",
    "    <li>While splitting the data explore stratify parameter. </li>\n",
    "    <li><strong>Apply Multinomial NB on these feature sets</strong></li>\n",
    "        <ul>\n",
    "            <li>Features that need to be considered</li> \n",
    "                <dl>\n",
    "                  <dt>essay</dt>\n",
    "                    <dd>while encoding essay, try to experiment with the max_features and n_grams parameter of vectorizers and see if it increases AUC score.</dd>\n",
    "                  <dt>categorical features</dt>\n",
    "                  <dd> - teacher_prefix</dd>\n",
    "                  <dd> - project_grade_category</dd>\n",
    "                  <dd> - school_state</dd>\n",
    "                  <dd> - clean_categories</dd>\n",
    "                  <dd> - clean_subcategories</dd>\n",
    "                  <dt>numerical features</dt>\n",
    "                  <dd> - price</dd>\n",
    "                  <dd> - teacher_number_of_previously_posted_projects</dd>\n",
    "                  <dd>while encoding the numerical features check <a href='https://imgur.com/ldZA1zg'>this</a> and <a href='https://ac-classroom-production.s3.amazonaws.com/public/COMMENT/Annotation_2020-05-21_225912_0lyZzN8.jpg'>this</a></dd>\n",
    "                </dl>    \n",
    "            <li><font color='red'>Set 1</font>: categorical, numerical features + preprocessed_eassay (BOW)</li>\n",
    "            <li><font color='red'>Set 2</font>: categorical, numerical features + preprocessed_eassay (TFIDF)</li>\n",
    "        </ul>\n",
    "    <li><strong>The hyper paramter tuning(find best alpha:smoothing parameter)</strong>\n",
    "        <ul>\n",
    "    <li>Consider alpha values in range: 10^-5 to 10^2 like [0.00001,0.0005, 0.0001,0.005,0.001,0.05,0.01,0.1,0.5,1,5,10,50,100]</li>\n",
    "    <li>Explore class_prior = [0.5, 0.5] parameter which can be present in MultinomialNB function(go through <a href='https://scikit-learn.org/stable/modules/generated/sklearn.naive_bayes.MultinomialNB.html'>this</a> ) then check how results might change.\n",
    "    <li>Find the best hyper parameter which will give the maximum <a href='https://www.appliedaicourse.com/course/applied-ai-course-online/lessons/receiver-operating-characteristic-curve-roc-curve-and-auc-1/'>AUC</a> value</li>\n",
    "    <li>For hyper parameter tuning using k-fold cross validation(use GridsearchCV or RandomsearchCV)/simple cross validation data (write for loop to iterate over hyper parameter values)</li>\n",
    "    <li>You need to plot the performance of model both on train data and cross validation data for each hyper parameter, like shown in the figure\n",
    "    <img src='https://i.imgur.com/hUv6aEy.jpg' width=300px><dd>-while plotting take log(alpha) on your X-axis so that it will be more readable</dd></li>\n",
    "    <li>Once after you found the best hyper parameter, you need to train your model with it, and find the AUC on test data and plot the ROC curve on both train and test.\n",
    "    <img src='https://imgur.com/q2P65L5.jpg' width=300px></li>\n",
    "    <li>Along with plotting ROC curve, you need to print the <a href='https://www.appliedaicourse.com/course/applied-ai-course-online/lessons/confusion-matrix-tpr-fpr-fnr-tnr-1/'>confusion matrix</a> with predicted and original labels of test data points\n",
    "        <img src='https://i.imgur.com/IdN5Ctv.png' width=300px><dd>-plot the confusion matrix in heatmaps, while plotting the confusion matrix go through the <a href='https://stackoverflow.com/questions/61748441/how-to-fix-the-values-displayed-in-a-confusion-matrix-in-exponential-form-to-nor'>link </a>\n",
    "</dd></li>\n",
    "        </ul>\n",
    "<li>find the top 20 features from either from feature <font color='red'>Set 1</font> or feature <font color='red'>Set 2</font> using values of `feature_log_prob_ ` parameter of `MultinomialNB` \n",
    "(https://scikit-learn.org/stable/modules/generated/sklearn.naive_bayes.MultinomialNB.html) and print <strong>BOTH</strong> positive as well as negative corresponding feature names. <dd> - go through the <a href='https://imgur.com/mWvE7gj'>link </a> </dd>\n",
    "    </li>\n",
    "    <li>You need to summarize the results at the end of the notebook, summarize it in the table format\n",
    "        <img src='http://i.imgur.com/YVpIGGE.jpg' width=400px>\n",
    "    </li>\n",
    "</ol>"
   ]
  },
  {
   "cell_type": "code",
   "execution_count": null,
   "metadata": {
    "id": "chpSjDaXm9KG"
   },
   "outputs": [],
   "source": []
  },
  {
   "cell_type": "markdown",
   "metadata": {
    "id": "inzYCIaib3c3"
   },
   "source": [
    "<h1>2. Naive Bayes </h1>"
   ]
  },
  {
   "cell_type": "markdown",
   "metadata": {
    "id": "FYqCIxzFb3c5"
   },
   "source": [
    "## 1.1 Loading Data"
   ]
  },
  {
   "cell_type": "code",
   "execution_count": 1,
   "metadata": {
    "id": "dA1jknyqb3c_"
   },
   "outputs": [
    {
     "data": {
      "text/html": [
       "<div>\n",
       "<style scoped>\n",
       "    .dataframe tbody tr th:only-of-type {\n",
       "        vertical-align: middle;\n",
       "    }\n",
       "\n",
       "    .dataframe tbody tr th {\n",
       "        vertical-align: top;\n",
       "    }\n",
       "\n",
       "    .dataframe thead th {\n",
       "        text-align: right;\n",
       "    }\n",
       "</style>\n",
       "<table border=\"1\" class=\"dataframe\">\n",
       "  <thead>\n",
       "    <tr style=\"text-align: right;\">\n",
       "      <th></th>\n",
       "      <th>school_state</th>\n",
       "      <th>teacher_prefix</th>\n",
       "      <th>project_grade_category</th>\n",
       "      <th>teacher_number_of_previously_posted_projects</th>\n",
       "      <th>project_is_approved</th>\n",
       "      <th>clean_categories</th>\n",
       "      <th>clean_subcategories</th>\n",
       "      <th>essay</th>\n",
       "      <th>price</th>\n",
       "    </tr>\n",
       "  </thead>\n",
       "  <tbody>\n",
       "    <tr>\n",
       "      <th>0</th>\n",
       "      <td>ca</td>\n",
       "      <td>mrs</td>\n",
       "      <td>grades_prek_2</td>\n",
       "      <td>53</td>\n",
       "      <td>1</td>\n",
       "      <td>math_science</td>\n",
       "      <td>appliedsciences health_lifescience</td>\n",
       "      <td>i fortunate enough use fairy tale stem kits cl...</td>\n",
       "      <td>725.05</td>\n",
       "    </tr>\n",
       "    <tr>\n",
       "      <th>1</th>\n",
       "      <td>ut</td>\n",
       "      <td>ms</td>\n",
       "      <td>grades_3_5</td>\n",
       "      <td>4</td>\n",
       "      <td>1</td>\n",
       "      <td>specialneeds</td>\n",
       "      <td>specialneeds</td>\n",
       "      <td>imagine 8 9 years old you third grade classroo...</td>\n",
       "      <td>213.03</td>\n",
       "    </tr>\n",
       "    <tr>\n",
       "      <th>2</th>\n",
       "      <td>ca</td>\n",
       "      <td>mrs</td>\n",
       "      <td>grades_prek_2</td>\n",
       "      <td>10</td>\n",
       "      <td>1</td>\n",
       "      <td>literacy_language</td>\n",
       "      <td>literacy</td>\n",
       "      <td>having class 24 students comes diverse learner...</td>\n",
       "      <td>329.00</td>\n",
       "    </tr>\n",
       "    <tr>\n",
       "      <th>3</th>\n",
       "      <td>ga</td>\n",
       "      <td>mrs</td>\n",
       "      <td>grades_prek_2</td>\n",
       "      <td>2</td>\n",
       "      <td>1</td>\n",
       "      <td>appliedlearning</td>\n",
       "      <td>earlydevelopment</td>\n",
       "      <td>i recently read article giving students choice...</td>\n",
       "      <td>481.04</td>\n",
       "    </tr>\n",
       "    <tr>\n",
       "      <th>4</th>\n",
       "      <td>wa</td>\n",
       "      <td>mrs</td>\n",
       "      <td>grades_3_5</td>\n",
       "      <td>2</td>\n",
       "      <td>1</td>\n",
       "      <td>literacy_language</td>\n",
       "      <td>literacy</td>\n",
       "      <td>my students crave challenge eat obstacles brea...</td>\n",
       "      <td>17.74</td>\n",
       "    </tr>\n",
       "    <tr>\n",
       "      <th>...</th>\n",
       "      <td>...</td>\n",
       "      <td>...</td>\n",
       "      <td>...</td>\n",
       "      <td>...</td>\n",
       "      <td>...</td>\n",
       "      <td>...</td>\n",
       "      <td>...</td>\n",
       "      <td>...</td>\n",
       "      <td>...</td>\n",
       "    </tr>\n",
       "    <tr>\n",
       "      <th>109243</th>\n",
       "      <td>hi</td>\n",
       "      <td>mrs</td>\n",
       "      <td>grades_9_12</td>\n",
       "      <td>5</td>\n",
       "      <td>1</td>\n",
       "      <td>health_sports</td>\n",
       "      <td>teamsports</td>\n",
       "      <td>our day starts 100 students athletes low incom...</td>\n",
       "      <td>143.36</td>\n",
       "    </tr>\n",
       "    <tr>\n",
       "      <th>109244</th>\n",
       "      <td>nm</td>\n",
       "      <td>ms</td>\n",
       "      <td>grades_prek_2</td>\n",
       "      <td>3</td>\n",
       "      <td>1</td>\n",
       "      <td>appliedlearning</td>\n",
       "      <td>earlydevelopment other</td>\n",
       "      <td>my students range age four five years old atte...</td>\n",
       "      <td>268.57</td>\n",
       "    </tr>\n",
       "    <tr>\n",
       "      <th>109245</th>\n",
       "      <td>il</td>\n",
       "      <td>mrs</td>\n",
       "      <td>grades_3_5</td>\n",
       "      <td>0</td>\n",
       "      <td>1</td>\n",
       "      <td>math_science</td>\n",
       "      <td>appliedsciences environmentalscience</td>\n",
       "      <td>we title 1 school 650 total students our eleme...</td>\n",
       "      <td>399.00</td>\n",
       "    </tr>\n",
       "    <tr>\n",
       "      <th>109246</th>\n",
       "      <td>hi</td>\n",
       "      <td>mrs</td>\n",
       "      <td>grades_9_12</td>\n",
       "      <td>1</td>\n",
       "      <td>1</td>\n",
       "      <td>math_science</td>\n",
       "      <td>health_lifescience</td>\n",
       "      <td>i teach many different types students my class...</td>\n",
       "      <td>287.73</td>\n",
       "    </tr>\n",
       "    <tr>\n",
       "      <th>109247</th>\n",
       "      <td>ca</td>\n",
       "      <td>mrs</td>\n",
       "      <td>grades_prek_2</td>\n",
       "      <td>2</td>\n",
       "      <td>1</td>\n",
       "      <td>literacy_language</td>\n",
       "      <td>literacy literature_writing</td>\n",
       "      <td>my first graders eager learn world around they...</td>\n",
       "      <td>5.50</td>\n",
       "    </tr>\n",
       "  </tbody>\n",
       "</table>\n",
       "<p>109248 rows × 9 columns</p>\n",
       "</div>"
      ],
      "text/plain": [
       "       school_state teacher_prefix project_grade_category  \\\n",
       "0                ca            mrs          grades_prek_2   \n",
       "1                ut             ms             grades_3_5   \n",
       "2                ca            mrs          grades_prek_2   \n",
       "3                ga            mrs          grades_prek_2   \n",
       "4                wa            mrs             grades_3_5   \n",
       "...             ...            ...                    ...   \n",
       "109243           hi            mrs            grades_9_12   \n",
       "109244           nm             ms          grades_prek_2   \n",
       "109245           il            mrs             grades_3_5   \n",
       "109246           hi            mrs            grades_9_12   \n",
       "109247           ca            mrs          grades_prek_2   \n",
       "\n",
       "        teacher_number_of_previously_posted_projects  project_is_approved  \\\n",
       "0                                                 53                    1   \n",
       "1                                                  4                    1   \n",
       "2                                                 10                    1   \n",
       "3                                                  2                    1   \n",
       "4                                                  2                    1   \n",
       "...                                              ...                  ...   \n",
       "109243                                             5                    1   \n",
       "109244                                             3                    1   \n",
       "109245                                             0                    1   \n",
       "109246                                             1                    1   \n",
       "109247                                             2                    1   \n",
       "\n",
       "         clean_categories                   clean_subcategories  \\\n",
       "0            math_science    appliedsciences health_lifescience   \n",
       "1            specialneeds                          specialneeds   \n",
       "2       literacy_language                              literacy   \n",
       "3         appliedlearning                      earlydevelopment   \n",
       "4       literacy_language                              literacy   \n",
       "...                   ...                                   ...   \n",
       "109243      health_sports                            teamsports   \n",
       "109244    appliedlearning                earlydevelopment other   \n",
       "109245       math_science  appliedsciences environmentalscience   \n",
       "109246       math_science                    health_lifescience   \n",
       "109247  literacy_language           literacy literature_writing   \n",
       "\n",
       "                                                    essay   price  \n",
       "0       i fortunate enough use fairy tale stem kits cl...  725.05  \n",
       "1       imagine 8 9 years old you third grade classroo...  213.03  \n",
       "2       having class 24 students comes diverse learner...  329.00  \n",
       "3       i recently read article giving students choice...  481.04  \n",
       "4       my students crave challenge eat obstacles brea...   17.74  \n",
       "...                                                   ...     ...  \n",
       "109243  our day starts 100 students athletes low incom...  143.36  \n",
       "109244  my students range age four five years old atte...  268.57  \n",
       "109245  we title 1 school 650 total students our eleme...  399.00  \n",
       "109246  i teach many different types students my class...  287.73  \n",
       "109247  my first graders eager learn world around they...    5.50  \n",
       "\n",
       "[109248 rows x 9 columns]"
      ]
     },
     "execution_count": 1,
     "metadata": {},
     "output_type": "execute_result"
    }
   ],
   "source": [
    "import numpy as np\n",
    "import nltk\n",
    "import matplotlib.pyplot as plt\n",
    "import seaborn as sns\n",
    "from sklearn.feature_extraction.text import TfidfVectorizer\n",
    "from sklearn.feature_extraction.text import CountVectorizer\n",
    "from sklearn.metrics import confusion_matrix\n",
    "from sklearn import metrics\n",
    "from sklearn.metrics import roc_curve, auc, roc_auc_score, confusion_matrix\n",
    "import pandas\n",
    "data = pandas.read_csv('preprocessed_data.csv')\n",
    "data"
   ]
  },
  {
   "cell_type": "markdown",
   "metadata": {
    "id": "WtVV13Fyb3dH"
   },
   "source": [
    "<h2>1.2 Splitting data into Train and cross validation(or test): Stratified Sampling</h2>"
   ]
  },
  {
   "cell_type": "code",
   "execution_count": 2,
   "metadata": {
    "id": "i-PyprDNb3dI",
    "scrolled": true
   },
   "outputs": [],
   "source": [
    "# please write all the code with proper documentation, and proper titles for each subsection\n",
    "# go through documentations and blogs before you start coding\n",
    "# first figure out what to do, and then think about how to do.\n",
    "# reading and understanding error messages will be very much helpfull in debugging your code\n",
    "# when you plot any graph make sure you use \n",
    "    # a. Title, that describes your plot, this will be very helpful to the reader\n",
    "    # b. Legends if needed\n",
    "    # c. X-axis label\n",
    "    # d. Y-axis label\n",
    "from sklearn.model_selection import train_test_split\n",
    "from sklearn.naive_bayes import MultinomialNB\n",
    "from sklearn.preprocessing import Normalizer\n",
    "# from sklearn.pipeline import Pipeline\n",
    "y = data['project_is_approved'].values\n",
    "x = data.drop('project_is_approved', axis = 1)\n",
    "X_train, X_test, y_train, y_test = train_test_split(x, y, test_size=0.33, stratify=y)   \n",
    "X_train, X_cv, y_train, y_cv = train_test_split(X_train, y_train, test_size=0.33, stratify= y_train) "
   ]
  },
  {
   "cell_type": "markdown",
   "metadata": {
    "id": "EnZwVNULb3dO"
   },
   "source": [
    "<h2>1.3 Make Data Model Ready: encoding eassay, and project_title</h2>"
   ]
  },
  {
   "cell_type": "code",
   "execution_count": null,
   "metadata": {
    "id": "-SczZKiab3dR"
   },
   "outputs": [],
   "source": [
    "# encoding essay\n",
    "'''\n",
    "A) Bag of words\n",
    "'''\n",
    "print(X_train['essay'].shape)\n",
    "vectorizer = CountVectorizer(min_df=10,ngram_range=(1,4), max_features=8000)\n",
    "X_train_essay_bow = vectorizer.fit_transform(X_train['essay'].values)\n",
    "X_test_essay_bow = vectorizer.transform(X_test['essay'].values)\n",
    "X_cv_essay_bow = vectorizer.transform(X_cv['essay'].values)\n",
    "feature_names_bow = vectorizer.get_feature_names()\n",
    "\n",
    "\n",
    "'''\n",
    "B) TF-IDF \n",
    "'''\n",
    "tf_idf_vec = TfidfVectorizer(min_df=10,ngram_range=(1,4), max_features=8000)\n",
    "X_train_essay_Tfidf = tf_idf_vec.fit_transform(X_train['essay'].values)\n",
    "X_test_essay_Tfidf = tf_idf_vec.transform(X_test['essay'].values)\n",
    "X_cv_essay_Tfidf = vectorizer.transform(X_cv['essay'].values)"
   ]
  },
  {
   "cell_type": "markdown",
   "metadata": {
    "id": "bGy86kgHb3dX"
   },
   "source": [
    "<h2>1.4 Make Data Model Ready: encoding numerical, categorical features</h2>"
   ]
  },
  {
   "cell_type": "code",
   "execution_count": 6,
   "metadata": {
    "id": "EfXkofX1b3da"
   },
   "outputs": [],
   "source": [
    "# encoding price\n",
    "normalizer = Normalizer()\n",
    "normalizer.fit(X_train['price'].values.reshape(-1,1))\n",
    "X_train_price_norm = normalizer.transform(X_train['price'].values.reshape(-1,1))\n",
    "X_cv_price_norm = normalizer.transform(X_cv['price'].values.reshape(-1,1))\n",
    "X_test_price_norm = normalizer.transform(X_test['price'].values.reshape(-1,1))\n",
    "\n",
    "# encoding teacher_number_of_previously_posted_projects\n",
    "normalizer = Normalizer()\n",
    "normalizer.fit(X_train['teacher_number_of_previously_posted_projects'].values.reshape(-1,1))\n",
    "X_train_teacher_total_prev_post_norm = normalizer.transform(X_train['teacher_number_of_previously_posted_projects'].values.reshape(-1,1))\n",
    "X_cv_teacher_total_prev_post_norm = normalizer.transform(X_cv['teacher_number_of_previously_posted_projects'].values.reshape(-1,1))\n",
    "X_test_teacher_total_prev_post_norm = normalizer.transform(X_test['teacher_number_of_previously_posted_projects'].values.reshape(-1,1))\n",
    "\n",
    "# encoding categorigal Features\n",
    "'''\n",
    "school_state\n",
    "'''\n",
    "vec = CountVectorizer()\n",
    "X_train_school_state_ohe = vec.fit_transform(X_train['school_state'].values)\n",
    "X_cv_school_state_ohe = vec.transform(X_cv['school_state'].values)\n",
    "X_test_school_state_ohe = vec.transform(X_test['school_state'].values)\n",
    "\n",
    "'''\n",
    "teacher_prefix\n",
    "'''\n",
    "vec = CountVectorizer()\n",
    "X_train_teacher_prefix_ohe = vec.fit_transform(X_train['teacher_prefix'].values)\n",
    "X_cv_teacher_prefix_ohe = vec.transform(X_cv['teacher_prefix'].values)\n",
    "X_test_teacher_prefix_ohe = vec.transform(X_test['teacher_prefix'].values)\n",
    "\n",
    "'''\n",
    "project_grade_category\n",
    "'''\n",
    "vec = CountVectorizer()\n",
    "X_train_project_grade_category_ohe = vec.fit_transform(X_train['project_grade_category'].values)\n",
    "X_cv_project_grade_category_ohe = vec.transform(X_cv['project_grade_category'].values)\n",
    "X_test_project_grade_category_ohe = vec.transform(X_test['project_grade_category'].values)\n",
    "\n",
    "'''\n",
    "clean_categories\n",
    "'''\n",
    "vec = CountVectorizer()\n",
    "X_train_clean_categories_ohe = vec.fit_transform(X_train['clean_categories'].values)\n",
    "X_cv_clean_categories_ohe = vec.transform(X_cv['clean_categories'].values)\n",
    "X_test_clean_categories_ohe = vec.transform(X_test['clean_categories'].values)\n",
    "\n",
    "'''\n",
    "clean_subcategories\n",
    "'''\n",
    "vec = CountVectorizer()\n",
    "X_train_clean_subcategories_ohe = vec.fit_transform(X_train['clean_subcategories'].values)\n",
    "X_cv_clean_subcategories_ohe = vec.transform(X_cv['clean_subcategories'].values)\n",
    "X_test_clean_subcategories_ohe = vec.transform(X_test['clean_subcategories'].values)"
   ]
  },
  {
   "cell_type": "markdown",
   "metadata": {},
   "source": [
    "# generate data set after encoding"
   ]
  },
  {
   "cell_type": "code",
   "execution_count": 5,
   "metadata": {},
   "outputs": [],
   "source": [
    "from scipy.sparse import hstack\n",
    "\n",
    "# data set 2 with BOW representation of text features\n",
    "X_TRAIN_1 = hstack((X_train_essay_bow, X_train_price_norm, X_train_teacher_total_prev_post_norm, X_train_school_state_ohe, X_train_teacher_prefix_ohe, X_train_project_grade_category_ohe, X_train_clean_categories_ohe, X_train_clean_subcategories_ohe)).tocsr()\n",
    "X_CV_1 = hstack((X_cv_essay_bow, X_cv_price_norm, X_cv_teacher_total_prev_post_norm, X_cv_school_state_ohe, X_cv_teacher_prefix_ohe, X_cv_project_grade_category_ohe, X_cv_clean_categories_ohe, X_cv_clean_subcategories_ohe)).tocsr()\n",
    "X_TEST_1 = hstack((X_test_essay_bow, X_test_price_norm, X_test_teacher_total_prev_post_norm, X_test_school_state_ohe, X_test_teacher_prefix_ohe, X_test_project_grade_category_ohe, X_test_clean_categories_ohe, X_test_clean_subcategories_ohe)).tocsr()\n",
    "\n",
    "# data set 2 with TFIDF representation of text features\n",
    "X_TRAIN_2 = hstack((X_train_essay_Tfidf, X_train_price_norm, X_train_teacher_total_prev_post_norm, X_train_school_state_ohe, X_train_teacher_prefix_ohe, X_train_project_grade_category_ohe, X_train_clean_categories_ohe, X_train_clean_subcategories_ohe)).tocsr()\n",
    "X_CV_2 = hstack((X_cv_essay_Tfidf, X_cv_price_norm, X_cv_teacher_total_prev_post_norm, X_cv_school_state_ohe, X_cv_teacher_prefix_ohe, X_cv_project_grade_category_ohe, X_cv_clean_categories_ohe, X_cv_clean_subcategories_ohe)).tocsr()\n",
    "X_TEST_2 = hstack((X_test_essay_Tfidf, X_test_price_norm, X_test_teacher_total_prev_post_norm, X_test_school_state_ohe, X_test_teacher_prefix_ohe, X_test_project_grade_category_ohe, X_test_clean_categories_ohe, X_test_clean_subcategories_ohe)).tocsr()"
   ]
  },
  {
   "cell_type": "markdown",
   "metadata": {
    "id": "yYHPYadYb3dh"
   },
   "source": [
    "<h2>1.5 Appling NB on different kind of featurization as mentioned in the instructions</h2>\n",
    "\n",
    "<br>Apply NB on different kind of featurization as mentioned in the instructions\n",
    "<br> For Every model that you work on make sure you do the step 2 and step 3 of instrucations"
   ]
  },
  {
   "cell_type": "code",
   "execution_count": 6,
   "metadata": {},
   "outputs": [
    {
     "data": {
      "text/plain": [
       "1    41615\n",
       "0     7426\n",
       "dtype: int64"
      ]
     },
     "execution_count": 6,
     "metadata": {},
     "output_type": "execute_result"
    }
   ],
   "source": [
    "# def batch_predict(clf, data):\n",
    "#     y_data_pred = []\n",
    "#     tr_loop = data.shape[0] - data.shape[0]%1000\n",
    "#     for i in range(0, tr_loop, 1000):\n",
    "#         y_data_pred.extend(clf.predict_proba(data[i:i+1000])[:,1])\n",
    "#     if data.shape[0]%1000 !=0:\n",
    "#         y_data_pred.extend(clf.predict_proba(data[tr_loop:])[:,1])\n",
    "    \n",
    "#     return y_data_pred\n",
    "\n",
    "pandas.Series(y_train).value_counts()"
   ]
  },
  {
   "cell_type": "code",
   "execution_count": 7,
   "metadata": {
    "id": "DNwqilFxb3di",
    "scrolled": true
   },
   "outputs": [
    {
     "name": "stderr",
     "output_type": "stream",
     "text": [
      "100%|██████████████████████████████████████████████████████████████████████████████████| 14/14 [00:05<00:00,  2.36it/s]\n"
     ]
    },
    {
     "data": {
      "image/png": "[encoded data removed]",
      "text/plain": [
       "<Figure size 432x288 with 1 Axes>"
      ]
     },
     "metadata": {
      "needs_background": "light"
     },
     "output_type": "display_data"
    }
   ],
   "source": [
    "import seaborn as sns\n",
    "from tqdm import tqdm\n",
    "from sklearn.naive_bayes import MultinomialNB\n",
    "\n",
    "train_auc_1 = [] ; cv_auc_1 = [] ; train_auc_50_1 = [] ; cv_auc_50_1 = []; train_auc_2 = [] ; cv_auc_2 = []\n",
    "train_auc_50_2 = [] ; cv_auc_50_2 = []\n",
    "alpha = [0.00001,0.0005, 0.0001,0.005,0.001,0.05,0.01,0.1,0.5,1,5,10,50,100]\n",
    "\n",
    "for a in tqdm(alpha):\n",
    "    # using data set 1 with BOW representation\n",
    "    mul_nb_1 = MultinomialNB(alpha=a) # without using 50-50 class priors\n",
    "    mul_nb_50_1 = MultinomialNB(alpha=a, class_prior = [0.5, 0.5] )\n",
    "    mul_nb_1.fit(X_TRAIN_1, y_train) \n",
    "    mul_nb_50_1.fit(X_TRAIN_1, y_train)\n",
    "    y_train_pred_1 = mul_nb_1.predict_proba(X_TRAIN_1)[:,1]\n",
    "    y_cv_pred_1 = mul_nb_1.predict_proba(X_CV_1)[:,1]\n",
    "    y_train_pred_50_1 = mul_nb_50_1.predict_proba(X_TRAIN_1)[:,1]\n",
    "    y_cv_pred_50_1 = mul_nb_50_1.predict_proba(X_CV_1)[:,1]\n",
    "#     y_train_pred = batch_predict(mul_nb, X_TRAIN_1)\n",
    "#     y_cv_pred =batch_predict(mul_nb, X_CV_1)\n",
    "    train_auc_1.append(roc_auc_score(y_train,y_train_pred_1))\n",
    "    cv_auc_1.append(roc_auc_score(y_cv, y_cv_pred_1))\n",
    "    train_auc_50_1.append(roc_auc_score(y_train,y_train_pred_50_1))\n",
    "    cv_auc_50_1.append(roc_auc_score(y_cv, y_cv_pred_50_1))\n",
    "    \n",
    "    # using data set 2 with TF-IDF representation\n",
    "    mul_nb_2 = MultinomialNB(alpha=a) # without using 50-50 class priors\n",
    "    mul_nb_50_2 = MultinomialNB(alpha=a, class_prior = [0.5, 0.5] )\n",
    "    mul_nb_2.fit(X_TRAIN_2, y_train) \n",
    "    mul_nb_50_2.fit(X_TRAIN_2, y_train)\n",
    "    y_train_pred_2 = mul_nb_2.predict_proba(X_TRAIN_2)[:,1]\n",
    "    y_cv_pred_2 = mul_nb_2.predict_proba(X_CV_2)[:,1]\n",
    "    y_train_pred_50_2 = mul_nb_50_2.predict_proba(X_TRAIN_2)[:,1]\n",
    "    y_cv_pred_50_2 = mul_nb_50_2.predict_proba(X_CV_2)[:,1]\n",
    "    train_auc_2.append(roc_auc_score(y_train,y_train_pred_2))\n",
    "    cv_auc_2.append(roc_auc_score(y_cv, y_cv_pred_2))\n",
    "    train_auc_50_2.append(roc_auc_score(y_train,y_train_pred_50_2))\n",
    "    cv_auc_50_2.append(roc_auc_score(y_cv, y_cv_pred_50_2))\n",
    "\n",
    "plt.plot(np.log(alpha), train_auc_1, label='Train AUC')\n",
    "plt.plot(np.log(alpha), cv_auc_1, label='CV AUC')\n",
    "\n",
    "plt.scatter(np.log(alpha), train_auc_1, label='Train AUC points')\n",
    "plt.scatter(np.log(alpha), cv_auc_1, label='CV AUC points')\n",
    "\n",
    "plt.legend()\n",
    "plt.xlabel('log(alpha): alpha = hyperparameter')\n",
    "plt.ylabel(\"AUC\")\n",
    "plt.title(\"ERROR PLOTS\")\n",
    "plt.grid()\n",
    "plt.show()    "
   ]
  },
  {
   "cell_type": "code",
   "execution_count": 8,
   "metadata": {},
   "outputs": [
    {
     "data": {
      "image/png": "[encoded data removed]",
      "text/plain": [
       "<Figure size 432x288 with 1 Axes>"
      ]
     },
     "metadata": {
      "needs_background": "light"
     },
     "output_type": "display_data"
    }
   ],
   "source": [
    "plt.plot(np.log(alpha), train_auc_50_1, label='Train AUC')\n",
    "plt.plot(np.log(alpha), cv_auc_50_1, label='CV AUC')\n",
    "\n",
    "plt.scatter(np.log(alpha), train_auc_50_1, label='Train AUC points')\n",
    "plt.scatter(np.log(alpha), cv_auc_50_1, label='CV AUC points')\n",
    "\n",
    "plt.legend()\n",
    "plt.xlabel(\"log(alpha): alpha = hyperparameter\")\n",
    "plt.ylabel(\"AUC\")\n",
    "plt.title(\"ERROR PLOTS\")\n",
    "plt.grid()\n",
    "plt.show()    "
   ]
  },
  {
   "cell_type": "code",
   "execution_count": 9,
   "metadata": {
    "scrolled": true
   },
   "outputs": [
    {
     "data": {
      "image/png": "[encoded data removed]",
      "text/plain": [
       "<Figure size 432x288 with 1 Axes>"
      ]
     },
     "metadata": {
      "needs_background": "light"
     },
     "output_type": "display_data"
    }
   ],
   "source": [
    "plt.plot(np.log(alpha), train_auc_2, label='Train AUC')\n",
    "plt.plot(np.log(alpha), cv_auc_2, label='CV AUC')\n",
    "\n",
    "plt.scatter(np.log(alpha), train_auc_2, label='Train AUC points')\n",
    "plt.scatter(np.log(alpha), cv_auc_2, label='CV AUC points')\n",
    "\n",
    "plt.legend()\n",
    "plt.xlabel(\"np.log(alpha): alpha = hyperparameter\")\n",
    "plt.ylabel(\"AUC\")\n",
    "plt.title(\"ERROR PLOTS\")\n",
    "plt.grid()\n",
    "plt.show() "
   ]
  },
  {
   "cell_type": "code",
   "execution_count": 10,
   "metadata": {},
   "outputs": [
    {
     "data": {
      "image/png": "[encoded data removed]",
      "text/plain": [
       "<Figure size 432x288 with 1 Axes>"
      ]
     },
     "metadata": {
      "needs_background": "light"
     },
     "output_type": "display_data"
    }
   ],
   "source": [
    "plt.plot(np.log(alpha), train_auc_50_2, label='Train AUC')\n",
    "plt.plot(np.log(alpha), cv_auc_50_2, label='CV AUC')\n",
    "\n",
    "plt.scatter(np.log(alpha), train_auc_50_2, label='Train AUC points')\n",
    "plt.scatter(np.log(alpha), cv_auc_50_2, label='CV AUC points')\n",
    "\n",
    "plt.legend()\n",
    "plt.xlabel(\"np.log(alpha): alpha = hyperparameter\")\n",
    "plt.ylabel(\"AUC\")\n",
    "plt.title(\"ERROR PLOTS\")\n",
    "plt.grid()\n",
    "plt.show() "
   ]
  },
  {
   "cell_type": "markdown",
   "metadata": {},
   "source": [
    "# Predicting on test data"
   ]
  },
  {
   "cell_type": "markdown",
   "metadata": {},
   "source": [
    "Set 1"
   ]
  },
  {
   "cell_type": "code",
   "execution_count": 82,
   "metadata": {},
   "outputs": [
    {
     "data": {
      "image/png": "[encoded data removed]",
      "text/plain": [
       "<Figure size 432x288 with 1 Axes>"
      ]
     },
     "metadata": {
      "needs_background": "light"
     },
     "output_type": "display_data"
    }
   ],
   "source": [
    "# for set1 , best alpha value is 50 \n",
    "clf =  MultinomialNB(alpha=50)\n",
    "clf.fit(X_TRAIN_1, y_train)\n",
    "\n",
    "# log_probs\n",
    "log_prob_neg =clf.feature_log_prob_[0]\n",
    "log_prob_pos =clf.feature_log_prob_[1]\n",
    "\n",
    "y_train_pred = clf.predict_proba(X_TRAIN_1)[:,1]\n",
    "y_test_pred = clf.predict_proba(X_TEST_1)[:,1]\n",
    "\n",
    "train_fpr, train_tpr, train_thresholds = roc_curve(y_train, y_train_pred)\n",
    "test_fpr, test_tpr, test_thresholds = roc_curve(y_test, y_test_pred)\n",
    "\n",
    "plt.plot(train_fpr, train_tpr, label=\"train AUC =\"+str(auc(train_fpr, train_tpr)))\n",
    "plt.plot(test_fpr, test_tpr, label=\"test AUC =\"+str(auc(test_fpr, test_tpr)))\n",
    "plt.legend()\n",
    "plt.xlabel(\"FPR\")\n",
    "plt.ylabel(\"TPR\")\n",
    "plt.title(\"ROC CURVE\")\n",
    "plt.grid()\n",
    "plt.show()"
   ]
  },
  {
   "cell_type": "markdown",
   "metadata": {},
   "source": [
    "Confusion Matrix"
   ]
  },
  {
   "cell_type": "code",
   "execution_count": 12,
   "metadata": {},
   "outputs": [
    {
     "name": "stdout",
     "output_type": "stream",
     "text": [
      "the maximum value of tpr*(1-fpr) 0.3845666833487831 for threshold 1.0\n"
     ]
    },
    {
     "data": {
      "text/plain": [
       "<AxesSubplot:>"
      ]
     },
     "execution_count": 12,
     "metadata": {},
     "output_type": "execute_result"
    },
    {
     "data": {
      "image/png": "[encoded data removed]",
      "text/plain": [
       "<Figure size 432x288 with 2 Axes>"
      ]
     },
     "metadata": {
      "needs_background": "light"
     },
     "output_type": "display_data"
    }
   ],
   "source": [
    "def find_best_threshold(threshold, fpr, tpr):\n",
    "    t = threshold[np.argmax(tpr*(1-fpr))]\n",
    "    print(\"the maximum value of tpr*(1-fpr)\", max(tpr*(1-fpr)), \"for threshold\", np.round(t,3))\n",
    "    return t\n",
    "\n",
    "def predict_with_best_t(proba, threshold):\n",
    "    predictions = []\n",
    "    for i in proba:\n",
    "        if i>=threshold:\n",
    "            predictions.append(1)\n",
    "        else:\n",
    "            predictions.append(0)\n",
    "    return predictions\n",
    "\n",
    "best_t = find_best_threshold(test_thresholds, test_fpr, test_tpr)\n",
    "cm = confusion_matrix(y_test, predict_with_best_t(y_test_pred, best_t))\n",
    "sns.heatmap(cm, annot=True,fmt=\"d\",cmap='Blues')"
   ]
  },
  {
   "cell_type": "markdown",
   "metadata": {},
   "source": [
    "Set 2"
   ]
  },
  {
   "cell_type": "code",
   "execution_count": 80,
   "metadata": {},
   "outputs": [
    {
     "data": {
      "image/png": "[encoded data removed]",
      "text/plain": [
       "<Figure size 432x288 with 1 Axes>"
      ]
     },
     "metadata": {
      "needs_background": "light"
     },
     "output_type": "display_data"
    }
   ],
   "source": [
    "# for set2 , best alpha is 6\n",
    "clf =  MultinomialNB(alpha=6)\n",
    "clf.fit(X_TRAIN_2, y_train)\n",
    "\n",
    "y_train_pred_2 = clf.predict_proba(X_TRAIN_2)[:,1]\n",
    "y_test_pred_2 = clf.predict_proba(X_TEST_2)[:,1]\n",
    "\n",
    "train_fpr_2, train_tpr_2, train_thresholds_2 = roc_curve(y_train, y_train_pred_2)\n",
    "test_fpr_2, test_tpr_2, test_thresholds_2 = roc_curve(y_test, y_test_pred_2)\n",
    "\n",
    "plt.plot(train_fpr_2, train_tpr_2, label=\"train AUC =\"+str(auc(train_fpr_2, train_tpr_2)))\n",
    "plt.plot(test_fpr_2, test_tpr_2, label=\"test AUC =\"+str(auc(test_fpr_2, test_tpr_2)))\n",
    "plt.legend()\n",
    "plt.xlabel(\"FPR\")\n",
    "plt.ylabel(\"TPR\")\n",
    "plt.title(\"ROC CURVE\")\n",
    "plt.grid()\n",
    "plt.show()"
   ]
  },
  {
   "cell_type": "code",
   "execution_count": 81,
   "metadata": {},
   "outputs": [
    {
     "name": "stdout",
     "output_type": "stream",
     "text": [
      "the maximum value of tpr*(1-fpr) 0.35192742932673904 for threshold 0.943\n"
     ]
    },
    {
     "data": {
      "text/plain": [
       "<AxesSubplot:>"
      ]
     },
     "execution_count": 81,
     "metadata": {},
     "output_type": "execute_result"
    },
    {
     "data": {
      "image/png": "[encoded data removed]",
      "text/plain": [
       "<Figure size 432x288 with 2 Axes>"
      ]
     },
     "metadata": {
      "needs_background": "light"
     },
     "output_type": "display_data"
    }
   ],
   "source": [
    "best_t = find_best_threshold(test_thresholds_2, test_fpr_2, test_tpr_2)\n",
    "cm = confusion_matrix(y_test, predict_with_best_t(y_test_pred_2, best_t))\n",
    "sns.heatmap(cm, annot=True,fmt=\"d\",cmap='Blues')"
   ]
  },
  {
   "cell_type": "markdown",
   "metadata": {},
   "source": [
    "#  Find top 20 features"
   ]
  },
  {
   "cell_type": "code",
   "execution_count": 15,
   "metadata": {},
   "outputs": [
    {
     "name": "stdout",
     "output_type": "stream",
     "text": [
      "Top 20 features in negative class =  ['students', 'school', 'learning', 'my', 'classroom', 'not', 'learn', 'help', 'they', 'the', 'my students', 'price', 'nannan', 'many', 'we', 'need', 'work', 'come', 'teacher_number_of_previously_posted_projects', 'love']\n",
      "Top 20 features in positive class =  ['students', 'school', 'my', 'learning', 'classroom', 'the', 'they', 'not', 'my students', 'learn', 'help', 'price', 'many', 'nannan', 'we', 'need', 'work', 'reading', 'use', 'teacher_number_of_previously_posted_projects']\n"
     ]
    }
   ],
   "source": [
    "# using set 1\n",
    "arr_len_neg = len(log_prob_neg)\n",
    "arr_len_pos = len(log_prob_pos)\n",
    "top_20_prob_ind_neg = np.argsort(log_prob_neg)[:arr_len_neg-21:-1]\n",
    "top_20_prob_ind_pos = np.argsort(log_prob_pos)[:arr_len_neg-21:-1]\n",
    "# list of all feature names\n",
    "non_essay_feats = ['price','teacher_number_of_previously_posted_projects', 'school_state', 'teacher_prefix', 'project_grade_category', 'clean_categories', 'clean_subcategories' ]\n",
    "total_feat = feature_names_bow.copy()\n",
    "total_feat.extend(non_essay_feats)\n",
    "\n",
    "def return_feature_names(feat_ind_arr, total_feat_arr):\n",
    "    features = []\n",
    "    for ind in feat_ind_arr:\n",
    "        features.append(total_feat_arr[ind])\n",
    "    return features  \n",
    "\n",
    "# top 20 negative features\n",
    "print('Top 20 features in negative class = ', return_feature_names(top_20_prob_ind_neg, total_feat))\n",
    "\n",
    "# top 20 positive features\n",
    "print('Top 20 features in positive class = ', return_feature_names(top_20_prob_ind_pos, total_feat))"
   ]
  },
  {
   "cell_type": "markdown",
   "metadata": {
    "id": "lS9hIHdib3dp"
   },
   "source": [
    "<h1>3. Summary</h1>\n",
    "\n",
    "<br> as mentioned in the step 5 of instructions"
   ]
  },
  {
   "cell_type": "code",
   "execution_count": 90,
   "metadata": {},
   "outputs": [
    {
     "name": "stdout",
     "output_type": "stream",
     "text": [
      "----------------------------------------------------------------------------\n",
      "| Vectorizer  | Model   \t|  Hyper Parameter  |  AUC \t\t   |\n",
      "----------------------------------------------------------------------------\n",
      "| BOW  \t      | Multinomial NB  |  50  \t\t    |  0.6598847569356402  |\n",
      "----------------------------------------------------------------------------\n",
      "| TFIDF\t      | Multinomial NB  |  6  \t\t    |  0.6266353674946935  |\n",
      "----------------------------------------------------------------------------\n"
     ]
    }
   ],
   "source": [
    "print('-'*76)\n",
    "print('| {}  | {}   \\t|  {}  |  {} \\t\\t   |'.format('Vectorizer', 'Model', 'Hyper Parameter', 'AUC'))\n",
    "print('-'*76)\n",
    "print('| {}  \\t      | {}  |  {}  \\t\\t    |  {}  |'.format('BOW', 'Multinomial NB', 50, auc(test_fpr, test_tpr)))\n",
    "print('-'*76)\n",
    "print('| {}\\t      | {}  |  {}  \\t\\t    |  {}  |'.format('TFIDF', 'Multinomial NB', 6, auc(test_fpr_2, test_tpr_2)))\n",
    "print('-'*76)"
   ]
  }
 ],
 "metadata": {
  "colab": {
   "collapsed_sections": [],
   "name": "6_Assignment_NB_Instructions.ipynb",
   "provenance": []
  },
  "kernelspec": {
   "display_name": "Python 3 (ipykernel)",
   "language": "python",
   "name": "python3"
  },
  "language_info": {
   "codemirror_mode": {
    "name": "ipython",
    "version": 3
   },
   "file_extension": ".py",
   "mimetype": "text/x-python",
   "name": "python",
   "nbconvert_exporter": "python",
   "pygments_lexer": "ipython3",
   "version": "3.8.12"
  }
 },
 "nbformat": 4,
 "nbformat_minor": 1
}
